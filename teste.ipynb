{
 "cells": [
  {
   "cell_type": "code",
   "execution_count": 1,
   "metadata": {},
   "outputs": [
    {
     "name": "stdout",
     "output_type": "stream",
     "text": [
      "    MATRIZ MODELO            Unnamed: 1  \\\n",
      "6         2900108                ABAIRA   \n",
      "7         2900207                 ABARE   \n",
      "8         2900306             ACAJUTIBA   \n",
      "9         2900355              ADUSTINA   \n",
      "10        2900405             AGUA FRIA   \n",
      "..            ...                   ...   \n",
      "418       2933307  VITORIA DA CONQUISTA   \n",
      "419       2933406                WAGNER   \n",
      "420       2933455             WANDERLEY   \n",
      "421       2933505   WENCESLAU GUIMARAES   \n",
      "422       2933604           XIQUE-XIQUE   \n",
      "\n",
      "                                            Unnamed: 2 Unnamed: 3 Unnamed: 4  \\\n",
      "6    Itaberaba                                     ...     1ª DCE        NaN   \n",
      "7    Paulo Afonso                                  ...     1ª DCE        NaN   \n",
      "8    Alagoinhas                                    ...     1ª DCE        NaN   \n",
      "9    Paulo Afonso                                  ...     1ª DCE        NaN   \n",
      "10   Serrinha                                      ...     1ª DCE        NaN   \n",
      "..                                                 ...        ...        ...   \n",
      "418  Vitória da Conquista                          ...     2ª DCE        NaN   \n",
      "419  Itaberaba                                     ...     1ª DCE        NaN   \n",
      "420  Barreiras                                     ...     1ª DCE        NaN   \n",
      "421  Santo Antônio de Jesus                        ...     2ª DCE        NaN   \n",
      "422  Irecê                                         ...     1ª DCE        NaN   \n",
      "\n",
      "     Unnamed: 5 Unnamed: 6  Unnamed: 7 Unnamed: 8  Unnamed: 9  ...  \\\n",
      "6           NaN        NaN         NaN        NaN         NaN  ...   \n",
      "7           NaN        NaN         NaN        NaN         NaN  ...   \n",
      "8           NaN        NaN         NaN        NaN         NaN  ...   \n",
      "9           NaN        NaN         NaN        NaN         NaN  ...   \n",
      "10          NaN        NaN         NaN        NaN         NaN  ...   \n",
      "..          ...        ...         ...        ...         ...  ...   \n",
      "418         NaN        NaN         NaN        NaN         NaN  ...   \n",
      "419         NaN        NaN         NaN        NaN         NaN  ...   \n",
      "420         NaN        NaN         NaN        NaN         NaN  ...   \n",
      "421         NaN        NaN         NaN        NaN         NaN  ...   \n",
      "422         NaN        NaN         NaN        NaN         NaN  ...   \n",
      "\n",
      "    Unnamed: 28  Unnamed: 29 Unnamed: 30  Unnamed: 31 Unnamed: 32  \\\n",
      "6           NaN          NaN         NaN          NaN         NaN   \n",
      "7           NaN          NaN         NaN          NaN         NaN   \n",
      "8           NaN          NaN         NaN          NaN         NaN   \n",
      "9           NaN          NaN         NaN          NaN         NaN   \n",
      "10          NaN          NaN         NaN          NaN         NaN   \n",
      "..          ...          ...         ...          ...         ...   \n",
      "418         NaN          NaN         NaN          NaN         NaN   \n",
      "419         NaN          NaN         NaN          NaN         NaN   \n",
      "420         NaN          NaN         NaN          NaN         NaN   \n",
      "421         NaN          NaN         NaN          NaN         NaN   \n",
      "422         NaN          NaN         NaN          NaN         NaN   \n",
      "\n",
      "     Unnamed: 33 Unnamed: 34  Unnamed: 35 Unnamed: 36  Unnamed: 37  \n",
      "6            NaN         NaN          NaN         NaN          NaN  \n",
      "7            NaN         NaN          NaN         NaN          NaN  \n",
      "8            NaN         NaN          NaN         NaN          NaN  \n",
      "9            NaN         NaN          NaN         NaN          NaN  \n",
      "10           NaN         NaN          NaN         NaN          NaN  \n",
      "..           ...         ...          ...         ...          ...  \n",
      "418          NaN         NaN          NaN         NaN          NaN  \n",
      "419          NaN         NaN          NaN         NaN          NaN  \n",
      "420          NaN         NaN          NaN         NaN          NaN  \n",
      "421          NaN         NaN          NaN         NaN          NaN  \n",
      "422          NaN         NaN          NaN         NaN          NaN  \n",
      "\n",
      "[417 rows x 38 columns]\n"
     ]
    }
   ],
   "source": [
    "import openpyxl as xl\n",
    "import matplotlib.pyplot as plt\n",
    "import numpy as np\n",
    "import pandas as pd\n",
    "\n",
    "df = pd.read_excel('dados\\\\Matriz Modelo - VERSÃO SISTEMA.xlsx', sheet_name='MATRIZ CONTRATOS')\n",
    "\n",
    "df2 = df.copy()[6:]\n",
    "print(df2)\n",
    "\n",
    "#coluna 35\n"
   ]
  },
  {
   "cell_type": "code",
   "execution_count": null,
   "metadata": {},
   "outputs": [],
   "source": [
    "df2.loc[:,\"Unnamed: 35\"]"
   ]
  }
 ],
 "metadata": {
  "kernelspec": {
   "display_name": "venv",
   "language": "python",
   "name": "python3"
  },
  "language_info": {
   "codemirror_mode": {
    "name": "ipython",
    "version": 3
   },
   "file_extension": ".py",
   "mimetype": "text/x-python",
   "name": "python",
   "nbconvert_exporter": "python",
   "pygments_lexer": "ipython3",
   "version": "3.12.7"
  }
 },
 "nbformat": 4,
 "nbformat_minor": 2
}
